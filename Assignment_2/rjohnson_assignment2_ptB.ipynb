{
 "cells": [
  {
   "cell_type": "code",
   "execution_count": 1,
   "id": "1bd56042",
   "metadata": {},
   "outputs": [],
   "source": [
    "import pandas as pd\n",
    "import pydot"
   ]
  },
  {
   "cell_type": "code",
   "execution_count": 2,
   "id": "cd0f0055",
   "metadata": {},
   "outputs": [],
   "source": [
    "# importing csv as a panda dataframe\n",
    "procs_df = pd.read_csv(\"processes.csv\")"
   ]
  },
  {
   "cell_type": "code",
   "execution_count": 3,
   "id": "c78ec273",
   "metadata": {},
   "outputs": [
    {
     "data": {
      "text/html": [
       "<div>\n",
       "<style scoped>\n",
       "    .dataframe tbody tr th:only-of-type {\n",
       "        vertical-align: middle;\n",
       "    }\n",
       "\n",
       "    .dataframe tbody tr th {\n",
       "        vertical-align: top;\n",
       "    }\n",
       "\n",
       "    .dataframe thead th {\n",
       "        text-align: right;\n",
       "    }\n",
       "</style>\n",
       "<table border=\"1\" class=\"dataframe\">\n",
       "  <thead>\n",
       "    <tr style=\"text-align: right;\">\n",
       "      <th></th>\n",
       "      <th>Parent</th>\n",
       "      <th>Child</th>\n",
       "    </tr>\n",
       "  </thead>\n",
       "  <tbody>\n",
       "    <tr>\n",
       "      <th>0</th>\n",
       "      <td>1777</td>\n",
       "      <td>2166</td>\n",
       "    </tr>\n",
       "    <tr>\n",
       "      <th>1</th>\n",
       "      <td>2166</td>\n",
       "      <td>2167</td>\n",
       "    </tr>\n",
       "    <tr>\n",
       "      <th>2</th>\n",
       "      <td>2167</td>\n",
       "      <td>2168</td>\n",
       "    </tr>\n",
       "    <tr>\n",
       "      <th>3</th>\n",
       "      <td>2166</td>\n",
       "      <td>2169</td>\n",
       "    </tr>\n",
       "    <tr>\n",
       "      <th>4</th>\n",
       "      <td>2166</td>\n",
       "      <td>2170</td>\n",
       "    </tr>\n",
       "    <tr>\n",
       "      <th>5</th>\n",
       "      <td>2169</td>\n",
       "      <td>2171</td>\n",
       "    </tr>\n",
       "    <tr>\n",
       "      <th>6</th>\n",
       "      <td>2167</td>\n",
       "      <td>2172</td>\n",
       "    </tr>\n",
       "    <tr>\n",
       "      <th>7</th>\n",
       "      <td>2168</td>\n",
       "      <td>2173</td>\n",
       "    </tr>\n",
       "    <tr>\n",
       "      <th>8</th>\n",
       "      <td>2167</td>\n",
       "      <td>2174</td>\n",
       "    </tr>\n",
       "    <tr>\n",
       "      <th>9</th>\n",
       "      <td>2172</td>\n",
       "      <td>2177</td>\n",
       "    </tr>\n",
       "    <tr>\n",
       "      <th>10</th>\n",
       "      <td>2168</td>\n",
       "      <td>2176</td>\n",
       "    </tr>\n",
       "    <tr>\n",
       "      <th>11</th>\n",
       "      <td>2170</td>\n",
       "      <td>2175</td>\n",
       "    </tr>\n",
       "    <tr>\n",
       "      <th>12</th>\n",
       "      <td>2171</td>\n",
       "      <td>2179</td>\n",
       "    </tr>\n",
       "    <tr>\n",
       "      <th>13</th>\n",
       "      <td>2166</td>\n",
       "      <td>2178</td>\n",
       "    </tr>\n",
       "    <tr>\n",
       "      <th>14</th>\n",
       "      <td>2173</td>\n",
       "      <td>2181</td>\n",
       "    </tr>\n",
       "    <tr>\n",
       "      <th>15</th>\n",
       "      <td>2169</td>\n",
       "      <td>2180</td>\n",
       "    </tr>\n",
       "  </tbody>\n",
       "</table>\n",
       "</div>"
      ],
      "text/plain": [
       "    Parent  Child\n",
       "0     1777   2166\n",
       "1     2166   2167\n",
       "2     2167   2168\n",
       "3     2166   2169\n",
       "4     2166   2170\n",
       "5     2169   2171\n",
       "6     2167   2172\n",
       "7     2168   2173\n",
       "8     2167   2174\n",
       "9     2172   2177\n",
       "10    2168   2176\n",
       "11    2170   2175\n",
       "12    2171   2179\n",
       "13    2166   2178\n",
       "14    2173   2181\n",
       "15    2169   2180"
      ]
     },
     "execution_count": 3,
     "metadata": {},
     "output_type": "execute_result"
    }
   ],
   "source": [
    "# visualizing what the pid data looks like\n",
    "procs_df"
   ]
  },
  {
   "cell_type": "code",
   "execution_count": 4,
   "id": "0e4cdf6d",
   "metadata": {},
   "outputs": [
    {
     "data": {
      "text/plain": [
       "Index(['Parent', 'Child'], dtype='object')"
      ]
     },
     "execution_count": 4,
     "metadata": {},
     "output_type": "execute_result"
    }
   ],
   "source": [
    "# comfirming my coloum names and formating\n",
    "procs_df.columns"
   ]
  },
  {
   "cell_type": "code",
   "execution_count": 5,
   "id": "cdb8b2ca",
   "metadata": {},
   "outputs": [],
   "source": [
    "# getting the root node\n",
    "root_pid = str(procs_df.loc[0,'Parent'])"
   ]
  },
  {
   "cell_type": "code",
   "execution_count": 6,
   "id": "7e0fbc69",
   "metadata": {},
   "outputs": [],
   "source": [
    "# creating dictionary to help track what level a node is at during creation\n",
    "# the pairs will be the pid and a number starting with 0 and the root\n",
    "proc_levels = {}"
   ]
  },
  {
   "cell_type": "code",
   "execution_count": 7,
   "id": "d606b0bd",
   "metadata": {},
   "outputs": [],
   "source": [
    "# creating my graph\n",
    "graph = pydot.Dot(graph_type='graph') \n",
    "\n",
    "# getting the root pid into\n",
    "root_node = pydot.Node(root_pid, label=f'{root_pid}\\nLevel 0)')\n",
    "graph.add_node(root_node)\n",
    "\n",
    "# add the root to my level tracker with a integer\n",
    "proc_levels[root_pid] = 0"
   ]
  },
  {
   "cell_type": "code",
   "execution_count": 8,
   "id": "7658b3ef",
   "metadata": {},
   "outputs": [],
   "source": [
    "# interation for the pid pairs\n",
    "for index, row in procs_df.iterrows():\n",
    "    parent_pid = str(row['Parent'])\n",
    "    child_pid = str(row['Child'])\n",
    "    \n",
    "    # creating the nodes with level of tree label using formatted string\n",
    "    parent_node = pydot.Node(parent_pid, label=f'PID: {parent_pid}\\nLevel: {proc_levels[parent_pid]}')\n",
    "    child_node = pydot.Node(child_pid, label=f'PID: {child_pid}\\nLevel: {proc_levels[parent_pid] + 1}')\n",
    "    \n",
    "    # adding the node to graph\n",
    "    graph.add_node(parent_node)\n",
    "    graph.add_node(child_node)\n",
    "    \n",
    "    # creating the edge to the tree\n",
    "    edge = pydot.Edge(parent_node, child_node)\n",
    "    graph.add_edge(edge)\n",
    "    \n",
    "    # level tracking\n",
    "    parent_level = proc_levels[parent_pid]\n",
    "    child_level = parent_level + 1\n",
    "    proc_levels[child_pid] = child_level"
   ]
  },
  {
   "cell_type": "code",
   "execution_count": 9,
   "id": "0f4c8e76",
   "metadata": {},
   "outputs": [],
   "source": [
    "# saving the tree\n",
    "graph.write_png('process_tree.png')"
   ]
  },
  {
   "cell_type": "code",
   "execution_count": null,
   "id": "40944dc6",
   "metadata": {},
   "outputs": [],
   "source": []
  }
 ],
 "metadata": {
  "kernelspec": {
   "display_name": "Python 3 (ipykernel)",
   "language": "python",
   "name": "python3"
  },
  "language_info": {
   "codemirror_mode": {
    "name": "ipython",
    "version": 3
   },
   "file_extension": ".py",
   "mimetype": "text/x-python",
   "name": "python",
   "nbconvert_exporter": "python",
   "pygments_lexer": "ipython3",
   "version": "3.10.11"
  }
 },
 "nbformat": 4,
 "nbformat_minor": 5
}
